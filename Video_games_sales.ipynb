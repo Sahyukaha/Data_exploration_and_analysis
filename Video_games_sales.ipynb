{
 "cells": [
  {
   "cell_type": "code",
   "execution_count": null,
   "id": "87fa20ea-2abc-435b-b786-f5e55b8bd7b3",
   "metadata": {},
   "outputs": [],
   "source": [
    "import pandas as pd\n",
    "import numpy as np\n",
    "import matplotlib.pylab as plt\n",
    "import seaborn as sns\n"
   ]
  },
  {
   "cell_type": "markdown",
   "id": "13f6d34b-68dc-4a58-b08e-bf356ba5230f",
   "metadata": {},
   "source": [
    "link to dataset: https://www.kaggle.com/datasets/gregorut/videogamesales"
   ]
  },
  {
   "cell_type": "code",
   "execution_count": null,
   "id": "61410212-1e75-4a78-8f40-087a24cbb7cd",
   "metadata": {},
   "outputs": [],
   "source": [
    "data = pd.read_csv('vgsales.csv') \n",
    "data.head(10)"
   ]
  },
  {
   "cell_type": "code",
   "execution_count": null,
   "id": "51d043ec-24f8-492f-aba6-86bc909f7f9b",
   "metadata": {},
   "outputs": [],
   "source": [
    "data.info()"
   ]
  },
  {
   "cell_type": "code",
   "execution_count": null,
   "id": "fe6e2761-0b4d-46cc-992b-fb8c33178770",
   "metadata": {},
   "outputs": [],
   "source": [
    "data.shape"
   ]
  },
  {
   "cell_type": "code",
   "execution_count": null,
   "id": "116391b8-6cd5-408e-8a5d-7ae76861ca0f",
   "metadata": {},
   "outputs": [],
   "source": [
    "genre = 'Sports'\n",
    "yr = 2000\n",
    "data_ = data.query('Genre == @genre and Year > @yr')\n",
    "data_.shape"
   ]
  },
  {
   "cell_type": "code",
   "execution_count": null,
   "id": "012102fe-9a0b-4b9a-a5ba-462d4ed0d4c7",
   "metadata": {},
   "outputs": [],
   "source": [
    "genre_sales = data.groupby(\"Genre\")[[\"NA_Sales\", \"EU_Sales\", \"JP_Sales\", \"Other_Sales\"]].sum()\n",
    "genre_sales"
   ]
  },
  {
   "cell_type": "markdown",
   "id": "dc4d977d-2583-4b99-839e-4a889e1bc7ca",
   "metadata": {},
   "source": [
    "What was the distribution of sales for each genre, across regions, and globally?"
   ]
  },
  {
   "cell_type": "code",
   "execution_count": null,
   "id": "367636b9-7095-48b6-9f00-20e6f40c17de",
   "metadata": {
    "scrolled": true
   },
   "outputs": [],
   "source": [
    " #Sort by total global sales for better visualization\n",
    "genre_sales[\"Total_Sales\"] = genre_sales.sum(axis=1)\n",
    "genre_sales = genre_sales.sort_values(\"Total_Sales\", ascending=False)\n",
    "genre_sales.drop(columns=[\"Total_Sales\"], inplace = True)  # Remove extra column\n",
    "\n",
    "# Visualization\n",
    "plt.figure(figsize=(15, 9))\n",
    "genre_sales.plot(kind = 'barh', stacked = True)\n",
    "plt.title(\"Sales by Genre and Region\", fontsize=16)\n",
    "plt.ylabel(\"Genre\", fontsize=12)\n",
    "plt.xlabel(\"Sales (in Millions)\", fontsize=12)\n",
    "plt.xticks(rotation=45, ha=\"center\")\n",
    "plt.grid(axis=\"y\", linestyle=\"--\", alpha=0.7)\n",
    "plt.tight_layout()\n",
    "plt.show()"
   ]
  },
  {
   "cell_type": "code",
   "execution_count": null,
   "id": "ff60f277-fa43-49a4-a7ef-5b52b0f4ed0d",
   "metadata": {
    "scrolled": true
   },
   "outputs": [],
   "source": [
    "\n",
    "data_filtered = data[data['Global_Sales'] > 10] # only selecting games with global sales greater than 10 Millions\n",
    "\n",
    "publisher_sales = data_filtered.groupby('Publisher')[[\"NA_Sales\", \"EU_Sales\", \"JP_Sales\", \"Other_Sales\"]].sum()\n",
    "publisher_sales"
   ]
  },
  {
   "cell_type": "code",
   "execution_count": null,
   "id": "eb34571e-cd2f-4854-855d-8805ae541f7b",
   "metadata": {
    "jp-MarkdownHeadingCollapsed": true
   },
   "outputs": [],
   "source": [
    "# #Sort by total global sales for better visualization\n",
    "publisher_sales[\"Total_Sales\"] = publisher_sales.sum(axis=1)\n",
    "publisher_sales = publisher_sales.sort_values(\"Total_Sales\", ascending=False)\n",
    "publisher_sales.drop(columns=[\"Total_Sales\"], inplace = True)  # Remove extra column\n",
    "\n",
    "# Visualization\n",
    "plt.figure(figsize=(15, 9))\n",
    "publisher_sales.plot(kind = 'barh', stacked = True)\n",
    "plt.title(\"Sales by Publisher and Region\", fontsize=16)\n",
    "plt.ylabel(\"Publisher\", fontsize=12)\n",
    "plt.xlabel(\"Sales\", fontsize=12)\n",
    "plt.xticks(rotation=45, ha=\"center\")\n",
    "plt.grid(axis=\"y\", linestyle=\"--\", alpha=0.7)\n",
    "plt.tight_layout()\n",
    "plt.show()"
   ]
  },
  {
   "cell_type": "code",
   "execution_count": null,
   "id": "dc1f53e2-21c2-4b22-bb47-c4a87bfe3923",
   "metadata": {},
   "outputs": [],
   "source": [
    "data['Platform'].unique()"
   ]
  },
  {
   "cell_type": "code",
   "execution_count": null,
   "id": "a2884783-2244-45f2-b893-4d0c9d2d5e2e",
   "metadata": {},
   "outputs": [],
   "source": [
    "platform_sales = data.groupby(\"Platform\")[[\"NA_Sales\", \"EU_Sales\", \"JP_Sales\", \"Other_Sales\"]].sum()\n",
    "platform_sales['Total_Sales'] = platform_sales.sum(axis=1)\n",
    "platform_sales"
   ]
  },
  {
   "cell_type": "code",
   "execution_count": null,
   "id": "5680ef97-1de6-4a0b-9818-1393b9368b22",
   "metadata": {},
   "outputs": [],
   "source": [
    "platform_sales_ = platform_sales[platform_sales['Total_Sales'] > 100.0]\n",
    "platform_sales_"
   ]
  },
  {
   "cell_type": "code",
   "execution_count": null,
   "id": "450d7765-c5f9-4ce6-b110-384a3cc485a0",
   "metadata": {},
   "outputs": [],
   "source": [
    "platform_sales_ = platform_sales_.sort_values(\"Total_Sales\", ascending=False)\n",
    "platform_sales_.drop(columns=[\"Total_Sales\"], inplace = True)  # Remove extra column\n",
    "platform_sales_\n",
    "\n"
   ]
  },
  {
   "cell_type": "code",
   "execution_count": null,
   "id": "207afffa-f706-4c3e-acdd-ac4e60f10930",
   "metadata": {},
   "outputs": [],
   "source": [
    "# Visualization\n",
    "plt.figure(figsize=(15, 9))\n",
    "platform_sales_.plot(kind = 'barh', stacked = True)\n",
    "plt.title(\"Sales by Platform and Region\", fontsize=16)\n",
    "plt.ylabel(\"Platform\", fontsize=12)\n",
    "plt.xlabel(\"Sales\", fontsize=12)\n",
    "plt.xticks(rotation=45, ha=\"center\")\n",
    "plt.grid(axis=\"y\", linestyle=\"--\", alpha=0.7)\n",
    "plt.tight_layout()\n",
    "plt.show()"
   ]
  },
  {
   "cell_type": "markdown",
   "id": "0d8bc48f-edc5-4136-8f2a-df4ee97e2e6d",
   "metadata": {},
   "source": [
    "# Change in video game sales with time"
   ]
  },
  {
   "cell_type": "code",
   "execution_count": null,
   "id": "05c990f8-fa6a-4a08-8413-41b3c9d5d682",
   "metadata": {},
   "outputs": [],
   "source": [
    "start_year = 1980\n",
    "end_year = 2005\n",
    "data_year = data.query('Year >= @start_year and Year < @end_year').copy()\n",
    "yearly_sales = data_year.groupby('Year')[[\"NA_Sales\", \"EU_Sales\", \"JP_Sales\", \"Other_Sales\"]].sum()\n",
    "yearly_sales"
   ]
  },
  {
   "cell_type": "code",
   "execution_count": null,
   "id": "a3a0fca3-66fd-426f-bb24-77c9f78077fd",
   "metadata": {},
   "outputs": [],
   "source": [
    "yearly_sales[\"Total_Sales\"] = yearly_sales.sum(axis=1)\n",
    "yearly_sales"
   ]
  },
  {
   "cell_type": "code",
   "execution_count": null,
   "id": "beac4092-06a2-4a69-8797-4bd0cb472d76",
   "metadata": {},
   "outputs": [],
   "source": [
    "ax = yearly_sales.plot(kind='line', y=['NA_Sales', 'EU_Sales', 'JP_Sales'])\n",
    "\n",
    "ax.set_xlabel('Year')\n",
    "ax.set_ylabel('Sales (in millions)')\n",
    "ax.set_title(\"Yearly Sales Trend\")\n",
    "\n",
    "plt.show()\n"
   ]
  },
  {
   "cell_type": "code",
   "execution_count": null,
   "id": "ae1b810d-8400-4ffc-b554-73325326413d",
   "metadata": {},
   "outputs": [],
   "source": [
    "data['Genre'].unique()"
   ]
  },
  {
   "cell_type": "code",
   "execution_count": null,
   "id": "8a8e322f-4395-4290-aa40-ce28cb92c9cb",
   "metadata": {},
   "outputs": [],
   "source": [
    "start_year = 1980\n",
    "end_year = 2010\n",
    "data_year = data.query('Year >= @start_year and Year < @end_year').copy()\n",
    "genre_yearly_sales = data_year.groupby(['Genre', 'Year'])[[\"NA_Sales\", \"EU_Sales\", \"JP_Sales\", \"Other_Sales\"]].sum()\n",
    "\n",
    "genre_yearly_sales\n"
   ]
  },
  {
   "cell_type": "code",
   "execution_count": null,
   "id": "9c8392f5-6350-4945-b35c-d9237af2f319",
   "metadata": {},
   "outputs": [],
   "source": [
    "genre_yearly_sales.loc['Racing'].plot(kind='line', y=['NA_Sales', 'EU_Sales', 'JP_Sales', 'Other_Sales'])"
   ]
  },
  {
   "cell_type": "code",
   "execution_count": null,
   "id": "9d9e0b14-ba9d-4349-8aaa-51a092399ee3",
   "metadata": {},
   "outputs": [],
   "source": []
  }
 ],
 "metadata": {
  "kernelspec": {
   "display_name": "Python 3 (ipykernel)",
   "language": "python",
   "name": "python3"
  },
  "language_info": {
   "codemirror_mode": {
    "name": "ipython",
    "version": 3
   },
   "file_extension": ".py",
   "mimetype": "text/x-python",
   "name": "python",
   "nbconvert_exporter": "python",
   "pygments_lexer": "ipython3",
   "version": "3.10.5"
  }
 },
 "nbformat": 4,
 "nbformat_minor": 5
}
